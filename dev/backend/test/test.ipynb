{
 "cells": [
  {
   "cell_type": "code",
   "execution_count": 1,
   "metadata": {},
   "outputs": [
    {
     "name": "stdout",
     "output_type": "stream",
     "text": [
      "Requirement already satisfied: pandas in c:\\users\\marsh\\dat\\dev\\backend\\venv\\lib\\site-packages (2.2.2)\n",
      "Requirement already satisfied: numpy>=1.22.4 in c:\\users\\marsh\\dat\\dev\\backend\\venv\\lib\\site-packages (from pandas) (2.0.0)\n",
      "Requirement already satisfied: python-dateutil>=2.8.2 in c:\\users\\marsh\\dat\\dev\\backend\\venv\\lib\\site-packages (from pandas) (2.9.0.post0)\n",
      "Requirement already satisfied: pytz>=2020.1 in c:\\users\\marsh\\dat\\dev\\backend\\venv\\lib\\site-packages (from pandas) (2024.1)\n",
      "Requirement already satisfied: tzdata>=2022.7 in c:\\users\\marsh\\dat\\dev\\backend\\venv\\lib\\site-packages (from pandas) (2024.1)\n",
      "Requirement already satisfied: six>=1.5 in c:\\users\\marsh\\dat\\dev\\backend\\venv\\lib\\site-packages (from python-dateutil>=2.8.2->pandas) (1.16.0)\n",
      "Requirement already satisfied: chardet in c:\\users\\marsh\\dat\\dev\\backend\\venv\\lib\\site-packages (5.2.0)\n"
     ]
    }
   ],
   "source": [
    "#install\n",
    "!pip install pandas\n",
    "!pip install chardet"
   ]
  },
  {
   "cell_type": "code",
   "execution_count": 2,
   "metadata": {},
   "outputs": [],
   "source": [
    "#import\n",
    "import pandas as pd\n",
    "import chardet\n",
    "import json\n",
    "import os\n",
    "import glob"
   ]
  },
  {
   "cell_type": "code",
   "execution_count": 6,
   "metadata": {},
   "outputs": [],
   "source": [
    "#import\n",
    "import pandas as pd\n",
    "import chardet\n",
    "import json\n",
    "import os\n",
    "import glob\n",
    "\n",
    "def read_CSV(passes):\n",
    "    length=len(passes)\n",
    "    dfs=[[],[]]\n",
    "    columns=[]\n",
    "    encoding=''\n",
    "    if length==1:\n",
    "        print(passes[0])\n",
    "        encoding=check_encoding(passes[0])\n",
    "        print(encoding)\n",
    "        df=pd.read_csv(passes[0], encoding=encoding)\n",
    "        Numpy=df.to_numpy()\n",
    "        columns=df.columns.values\n",
    "        dfs[0].append(Numpy)\n",
    "        dfs[1].append(columns)\n",
    "    else:\n",
    "        for i in range(length):\n",
    "            print(passes[i])\n",
    "            encoding=check_encoding(passes[i])\n",
    "            print(encoding)\n",
    "            df=pd.read_csv(passes[i], encoding=encoding)\n",
    "            Numpy=df.to_numpy()\n",
    "            columns=df.columns.values\n",
    "            dfs[0].append(Numpy)\n",
    "            dfs[1].append(columns)\n",
    "    return length,dfs\n",
    "\n",
    "#エンコードのチェック\n",
    "def check_encoding(filepath):\n",
    "    with open(filepath, 'rb') as f:\n",
    "        c = f.read()\n",
    "        result = chardet.detect(c)\n",
    "    encoding=result['encoding']\n",
    "    if result['encoding'] == 'SHIFT_JIS':\n",
    "        encoding = 'CP932'\n",
    "    return encoding\n",
    "\n",
    "#json形式へ変換\n",
    "def change_json(length,data,names):\n",
    "    json_file={}\n",
    "    json_file[\"length\"]=length\n",
    "    for i in range(length):\n",
    "        length2=len(data[i])\n",
    "        for j in range(length2):\n",
    "            json_file[names[i][j]]=data[i][j].tolist()\n",
    "    \n",
    "    return json.dumps(json_file, ensure_ascii=False, indent=length)\n",
    "\n",
    "\n",
    "#csvファイルはuploadsフォルダ内の全てを読み込んで検出\n",
    "def read_folder(passes='..\\\\uploads'):\n",
    "    p=passes+'\\\\*.csv'\n",
    "    return glob.glob(p)\n",
    "\n",
    "\n",
    "\n",
    "#uploadsフォルダ内のCSVファイルを読み込む(入力はなし、出力は「CSVの数」,「[CSVファイルの内容][カラム内容]のjsonデータ」)\n",
    "def read():\n",
    "    dfs=[]\n",
    "    names=[[str(1)+\"つ目のデータ\"],[str(1)+\"つ目のカラム\"]]\n",
    "    length,dfs=read_CSV(read_folder())\n",
    "    if length>1:\n",
    "        for i in range(length-1):\n",
    "            names[0].append(str(i)+\"つ目のデータ\")\n",
    "            names[1].append(str(i)+\"つ目のカラム\")\n",
    "    return change_json(length,dfs,names)\n",
    "\n"
   ]
  },
  {
   "cell_type": "code",
   "execution_count": 4,
   "metadata": {},
   "outputs": [
    {
     "name": "stdout",
     "output_type": "stream",
     "text": [
      "c:\\Users\\marsh\\DAT\\dev\\backend\\test\n"
     ]
    }
   ],
   "source": [
    "import os\n",
    "cwd = os.getcwd()\n",
    "print(cwd)"
   ]
  },
  {
   "cell_type": "code",
   "execution_count": null,
   "metadata": {},
   "outputs": [],
   "source": [
    "dfs=[]\n",
    "length,dfs=read_CSV(read_folder())\n",
    "print(length)\n",
    "#print(dfs)\n",
    "names=[[\"一つ目のデータ\",\"二つ目のデータ\"],[\"一つ目のカラム\",\"二つ目のカラム\"]]\n",
    "print(change_json(length,dfs,names))"
   ]
  }
 ],
 "metadata": {
  "kernelspec": {
   "display_name": ".venv",
   "language": "python",
   "name": "python3"
  },
  "language_info": {
   "codemirror_mode": {
    "name": "ipython",
    "version": 3
   },
   "file_extension": ".py",
   "mimetype": "text/x-python",
   "name": "python",
   "nbconvert_exporter": "python",
   "pygments_lexer": "ipython3",
   "version": "3.9.13"
  }
 },
 "nbformat": 4,
 "nbformat_minor": 2
}
